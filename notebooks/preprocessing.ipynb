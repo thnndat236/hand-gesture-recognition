{
  "cells": [
    {
      "cell_type": "markdown",
      "metadata": {
        "id": "GN_0BmTMVBxY"
      },
      "source": [
        "# Preprocessing"
      ]
    },
    {
      "cell_type": "markdown",
      "metadata": {
        "id": "O0A0bHsI4oDE"
      },
      "source": [
        "## Import"
      ]
    },
    {
      "cell_type": "code",
      "execution_count": 3,
      "metadata": {
        "execution": {
          "iopub.execute_input": "2025-08-10T07:08:06.754663Z",
          "iopub.status.busy": "2025-08-10T07:08:06.754444Z",
          "iopub.status.idle": "2025-08-10T07:08:07.869055Z",
          "shell.execute_reply": "2025-08-10T07:08:07.8683Z",
          "shell.execute_reply.started": "2025-08-10T07:08:06.754643Z"
        },
        "id": "U6W07FwN4oDH",
        "trusted": true
      },
      "outputs": [],
      "source": [
        "# from pathlib import Path\n",
        "import cv2\n",
        "import csv\n",
        "import os\n",
        "import numpy as np\n",
        "import pandas as pd\n",
        "import matplotlib.pyplot as plt\n",
        "# import seaborn as sns\n",
        "import random\n",
        "import copy\n",
        "import itertools\n",
        "from tqdm.notebook import tqdm\n",
        "\n",
        "import mediapipe as mp\n",
        "from mediapipe.tasks import python\n",
        "from mediapipe.tasks.python import vision\n"
      ]
    },
    {
      "cell_type": "markdown",
      "metadata": {
        "id": "CPpTF8UC4oDI"
      },
      "source": [
        "## Load Dataset and Preprocess with MediaPipe"
      ]
    },
    {
      "cell_type": "code",
      "execution_count": 4,
      "metadata": {
        "execution": {
          "iopub.execute_input": "2025-08-10T07:08:07.870183Z",
          "iopub.status.busy": "2025-08-10T07:08:07.869898Z",
          "iopub.status.idle": "2025-08-10T07:08:07.874017Z",
          "shell.execute_reply": "2025-08-10T07:08:07.873403Z",
          "shell.execute_reply.started": "2025-08-10T07:08:07.870166Z"
        },
        "id": "cu7ypcuc4oDJ",
        "trusted": true
      },
      "outputs": [],
      "source": [
        "ASL_TRAIN = '../DATA/asl/asl-alphabet-train'\n",
        "ASL_TEST = '../DATA/asl/asl-alphabet-test'"
      ]
    },
    {
      "cell_type": "code",
      "execution_count": 5,
      "metadata": {
        "id": "cwqP2r6vZtv6"
      },
      "outputs": [],
      "source": [
        "IMG_SIZE = 224\n",
        "MAX_FILES_TO_PROCESS = 3000\n",
        "TRAIN_SAMPLES_PER_CLASS = 700\n",
        "TEST_SAMPLES_PER_CLASS = 30"
      ]
    },
    {
      "cell_type": "code",
      "execution_count": 6,
      "metadata": {
        "id": "Zp6WhCIgml-P"
      },
      "outputs": [],
      "source": [
        "model_path = '../model/hand_landmarker/hand_landmarker.task'"
      ]
    },
    {
      "cell_type": "code",
      "execution_count": 7,
      "metadata": {
        "id": "d5wso9o7mttd"
      },
      "outputs": [
        {
          "name": "stderr",
          "output_type": "stream",
          "text": [
            "WARNING: All log messages before absl::InitializeLog() is called are written to STDERR\n",
            "I0000 00:00:1755505160.844326    1742 gl_context_egl.cc:85] Successfully initialized EGL. Major : 1 Minor: 5\n",
            "I0000 00:00:1755505160.888581    2841 gl_context.cc:369] GL version: 3.2 (OpenGL ES 3.2 Mesa 25.0.7-0ubuntu0.24.04.1), renderer: llvmpipe (LLVM 19.1.1, 256 bits)\n",
            "INFO: Created TensorFlow Lite XNNPACK delegate for CPU.\n",
            "W0000 00:00:1755505160.967792    2844 inference_feedback_manager.cc:114] Feedback manager requires a model with a single signature inference. Disabling support for feedback tensors.\n",
            "W0000 00:00:1755505161.000005    2856 inference_feedback_manager.cc:114] Feedback manager requires a model with a single signature inference. Disabling support for feedback tensors.\n"
          ]
        }
      ],
      "source": [
        "options = vision.HandLandmarkerOptions(base_options=python.BaseOptions(model_asset_path=model_path),\n",
        "                                       num_hands=1,\n",
        "                                       running_mode=vision.RunningMode.IMAGE,\n",
        "                                       min_hand_detection_confidence=0.7)\n",
        "landmarker = vision.HandLandmarker.create_from_options(options)"
      ]
    },
    {
      "cell_type": "code",
      "execution_count": 8,
      "metadata": {
        "id": "GKlCPypbm-RE"
      },
      "outputs": [],
      "source": [
        "def calc_landmark_array(image, landmarks):\n",
        "    image_width, image_height = image.shape[1], image.shape[0]\n",
        "\n",
        "    landmark_array = []\n",
        "    for _, landmark in enumerate(landmarks):\n",
        "        landmark_x = min(int(landmark.x * image_width), image_width)\n",
        "        landmark_y = min(int(landmark.y * image_height), image_height)\n",
        "\n",
        "        landmark_array.append([landmark_x, landmark_y])\n",
        "\n",
        "    return landmark_array\n",
        "\n",
        "def pre_process_landmark(landmark_array):\n",
        "    temp_landmark_array = copy.deepcopy(landmark_array)\n",
        "\n",
        "    # Convert to relative coordinates\n",
        "    base_x, base_y = 0, 0\n",
        "    for index, landmark in enumerate(landmark_array):\n",
        "        if index == 0:\n",
        "            base_x, base_y = landmark[0], landmark[1]\n",
        "\n",
        "        temp_landmark_array[index][0] -= base_x\n",
        "        temp_landmark_array[index][1] -= base_y\n",
        "\n",
        "    # Convert to a one-dimensional list\n",
        "    temp_landmark_array = list(itertools.chain.from_iterable(temp_landmark_array))\n",
        "\n",
        "    # Normalization\n",
        "    max_value = max(list(map(abs, temp_landmark_array)))\n",
        "\n",
        "    def normalize_(n):\n",
        "        return n / max_value\n",
        "\n",
        "    temp_landmark_array = list(map(normalize_, temp_landmark_array))\n",
        "\n",
        "    return temp_landmark_array"
      ]
    },
    {
      "cell_type": "code",
      "execution_count": 9,
      "metadata": {
        "id": "0gd90B23nBAz"
      },
      "outputs": [],
      "source": [
        "def extract_landmarks(img_bgr, on_score=True):\n",
        "    img_rgb = cv2.cvtColor(img_bgr, cv2.COLOR_BGR2RGB)\n",
        "\n",
        "    mp_image = mp.Image(image_format=mp.ImageFormat.SRGB, data=img_rgb)\n",
        "    detection_result = landmarker.detect(mp_image)\n",
        "\n",
        "    hand_landmarks_list = detection_result.hand_landmarks\n",
        "    handedness_list = detection_result.handedness\n",
        "\n",
        "    score = handedness_list[0][0].score\n",
        "    if on_score and (score < 0.75):\n",
        "        return None\n",
        "\n",
        "    # Landmark calculation\n",
        "    landmark_array = calc_landmark_array(img_rgb, hand_landmarks_list[0])\n",
        "\n",
        "    # Convert landmarks to normalized coordinates\n",
        "    pre_processed_landmark_array = pre_process_landmark(landmark_array)\n",
        "\n",
        "    return pre_processed_landmark_array"
      ]
    },
    {
      "cell_type": "code",
      "execution_count": 10,
      "metadata": {
        "id": "dvUOoUO8RW4P"
      },
      "outputs": [],
      "source": [
        "def load_images(data_path, uniq_labels, sample_per_class, on_score=True):\n",
        "    extract_bar = tqdm(total=len(uniq_labels) * sample_per_class, desc=\"Extracting landmarks\", leave=True, dynamic_ncols=True)\n",
        "\n",
        "    samples = []\n",
        "    labels = []\n",
        "    for idx, label in enumerate(uniq_labels):\n",
        "        label_dir = os.path.join(data_path, label)\n",
        "        if not os.path.exists(label_dir):\n",
        "            continue\n",
        "        files = [f for f in os.listdir(label_dir) if f.lower().endswith(('.jpg', '.jpeg', '.png'))]\n",
        "        random.shuffle(files)\n",
        "        files = files[:MAX_FILES_TO_PROCESS]\n",
        "\n",
        "        sample_count = 0\n",
        "        for file in files:\n",
        "            if sample_count >= sample_per_class:\n",
        "                break\n",
        "            img_path = os.path.join(label_dir, file)\n",
        "\n",
        "            try:\n",
        "                img = cv2.imread(str(img_path))\n",
        "                if img is None:\n",
        "                    continue\n",
        "                img = cv2.resize(img, (IMG_SIZE, IMG_SIZE))\n",
        "                landmark_array = extract_landmarks(img, on_score)\n",
        "\n",
        "                if landmark_array is not None:\n",
        "                    samples.append(landmark_array)\n",
        "                    labels.append(idx)\n",
        "                    sample_count += 1\n",
        "                    extract_bar.update(1)\n",
        "\n",
        "            except Exception:\n",
        "                continue\n",
        "\n",
        "    extract_bar.close()\n",
        "\n",
        "    return samples, labels"
      ]
    },
    {
      "cell_type": "code",
      "execution_count": 11,
      "metadata": {
        "colab": {
          "base_uri": "https://localhost:8080/",
          "height": 49,
          "referenced_widgets": [
            "1f3abbdcafdd478e925c58c4a180546d",
            "a4aaf0da05d045398eb214c641b4a28f",
            "e2cfdc7735124dc2ba5cdde0149f14f4",
            "53bd00c488e44dc29896b737cc5455a2",
            "8ad52475057144678e7602541ca2124b",
            "192208ab40784636bc2913675ec87c00",
            "6f02b59540f6437db4699782494cfaaa",
            "3ff136c3a49945a7ad3b8412173cdf84",
            "d0c3da3b4633432e973309977e363c8e",
            "6bbf521c5cef4a3d8161840b21f97836",
            "051c4076131844cb862a775e21a6b1f6"
          ]
        },
        "execution": {
          "iopub.execute_input": "2025-08-10T07:08:07.889594Z",
          "iopub.status.busy": "2025-08-10T07:08:07.889342Z",
          "iopub.status.idle": "2025-08-10T07:09:57.93598Z",
          "shell.execute_reply": "2025-08-10T07:09:57.935339Z",
          "shell.execute_reply.started": "2025-08-10T07:08:07.88957Z"
        },
        "id": "fh9Vgov94oDM",
        "outputId": "338dffde-1586-48d4-8fb1-b79886493b46",
        "trusted": true
      },
      "outputs": [
        {
          "data": {
            "application/vnd.jupyter.widget-view+json": {
              "model_id": "88c60016aba746fcb655d6c03c0bc2a5",
              "version_major": 2,
              "version_minor": 0
            },
            "text/plain": [
              "Extracting landmarks:   0%|          | 0/19600 [00:00<?, ?it/s]"
            ]
          },
          "metadata": {},
          "output_type": "display_data"
        },
        {
          "name": "stderr",
          "output_type": "stream",
          "text": [
            "W0000 00:00:1755505161.111411    2851 landmark_projection_calculator.cc:186] Using NORM_RECT without IMAGE_DIMENSIONS is only supported for the square ROI. Provide IMAGE_DIMENSIONS or use PROJECTION_MATRIX.\n"
          ]
        }
      ],
      "source": [
        "uniq_labels = [label for label in sorted(os.listdir(ASL_TRAIN))\n",
        "               if label.lower() not in [\"nothing\"]]\n",
        "X_train_full, y_train_full = load_images(ASL_TRAIN, uniq_labels, TRAIN_SAMPLES_PER_CLASS)"
      ]
    },
    {
      "cell_type": "code",
      "execution_count": 12,
      "metadata": {
        "colab": {
          "base_uri": "https://localhost:8080/",
          "height": 49,
          "referenced_widgets": [
            "803a38aa9f9f4d02a476ce3452c6de8a",
            "e16cae92c5154b0fafdeab23c59627a5",
            "d1799f8f9f7c410dbc3303252e7499b3",
            "0b642dde358b4f4a982da6930a514be7",
            "81a7bf3fe9ee4c90a17a8cc4576ee726",
            "4a7cc53a9b4f4e00bb263a141f5d4220",
            "9c38cab37f3248d39e0d5165e22f176d",
            "faf43285952f40b582fb120fa47cbed8",
            "8e3102bce3454825840d4d0a49932b70",
            "fc45b94840d84e2290675a8e162f5d6d",
            "646f0cbc21b64c4fb6bee938ce51799d"
          ]
        },
        "id": "VE-2wKqpFJc0",
        "outputId": "49a9f691-3a72-43ab-912c-d2cbeb6eddd9"
      },
      "outputs": [
        {
          "data": {
            "application/vnd.jupyter.widget-view+json": {
              "model_id": "18957da9355640adaa80eb0d0c04e3a6",
              "version_major": 2,
              "version_minor": 0
            },
            "text/plain": [
              "Extracting landmarks:   0%|          | 0/840 [00:00<?, ?it/s]"
            ]
          },
          "metadata": {},
          "output_type": "display_data"
        }
      ],
      "source": [
        "uniq_labels = [label for label in sorted(os.listdir(ASL_TEST))\n",
        "               if label.lower() not in [\"nothing\"]]\n",
        "X_test, y_test = load_images(ASL_TEST, uniq_labels, TEST_SAMPLES_PER_CLASS, on_score=False)"
      ]
    },
    {
      "cell_type": "code",
      "execution_count": 13,
      "metadata": {
        "colab": {
          "base_uri": "https://localhost:8080/"
        },
        "execution": {
          "iopub.execute_input": "2025-08-10T07:09:58.728971Z",
          "iopub.status.busy": "2025-08-10T07:09:58.728615Z",
          "iopub.status.idle": "2025-08-10T07:09:58.740742Z",
          "shell.execute_reply": "2025-08-10T07:09:58.740197Z",
          "shell.execute_reply.started": "2025-08-10T07:09:58.728953Z"
        },
        "id": "fGyy_r2n4oDR",
        "outputId": "300e737c-f780-496c-80dd-f728f90647eb",
        "trusted": true
      },
      "outputs": [
        {
          "data": {
            "text/plain": [
              "((19600, 19600), (765, 765))"
            ]
          },
          "execution_count": 13,
          "metadata": {},
          "output_type": "execute_result"
        }
      ],
      "source": [
        "(len(X_train_full), len(y_train_full)), (len(X_test), len(y_test))"
      ]
    },
    {
      "cell_type": "markdown",
      "metadata": {
        "id": "wcVj2Nb5VLdO"
      },
      "source": [
        "## Visualize"
      ]
    },
    {
      "cell_type": "code",
      "execution_count": 20,
      "metadata": {
        "execution": {
          "iopub.execute_input": "2025-08-10T07:09:58.741766Z",
          "iopub.status.busy": "2025-08-10T07:09:58.741538Z",
          "iopub.status.idle": "2025-08-10T07:09:58.750846Z",
          "shell.execute_reply": "2025-08-10T07:09:58.750126Z",
          "shell.execute_reply.started": "2025-08-10T07:09:58.741743Z"
        },
        "id": "dYXLlDPN4oDS",
        "trusted": true
      },
      "outputs": [],
      "source": [
        "def label_plot(label_list):\n",
        "    unique_values, counts = np.unique(label_list, return_counts=True)\n",
        "    plt.figure(figsize=(10,6))\n",
        "    plt.bar(uniq_labels, counts, color='skyblue')\n",
        "    plt.title(\"Label Distribution\")\n",
        "    plt.xlabel('Label')\n",
        "    plt.ylabel('Count')\n",
        "    plt.xticks(rotation=45)\n",
        "    plt.tight_layout()\n",
        "    plt.show()"
      ]
    },
    {
      "cell_type": "code",
      "execution_count": 21,
      "metadata": {
        "colab": {
          "base_uri": "https://localhost:8080/",
          "height": 472
        },
        "execution": {
          "iopub.execute_input": "2025-08-10T07:09:58.751928Z",
          "iopub.status.busy": "2025-08-10T07:09:58.751675Z",
          "iopub.status.idle": "2025-08-10T07:09:59.091781Z",
          "shell.execute_reply": "2025-08-10T07:09:59.091124Z",
          "shell.execute_reply.started": "2025-08-10T07:09:58.751904Z"
        },
        "id": "Y5-8qHyk4oDT",
        "outputId": "20e8d711-6047-4419-944b-8f3e1e813179",
        "trusted": true
      },
      "outputs": [
        {
          "data": {
            "image/png": "[encoded data removed]",
            "text/plain": [
              "<Figure size 1000x600 with 1 Axes>"
            ]
          },
          "metadata": {},
          "output_type": "display_data"
        }
      ],
      "source": [
        "label_plot(y_train_full)"
      ]
    },
    {
      "cell_type": "code",
      "execution_count": 22,
      "metadata": {
        "colab": {
          "base_uri": "https://localhost:8080/",
          "height": 472
        },
        "execution": {
          "iopub.execute_input": "2025-08-10T07:09:59.092691Z",
          "iopub.status.busy": "2025-08-10T07:09:59.092453Z",
          "iopub.status.idle": "2025-08-10T07:09:59.324981Z",
          "shell.execute_reply": "2025-08-10T07:09:59.32433Z",
          "shell.execute_reply.started": "2025-08-10T07:09:59.092668Z"
        },
        "id": "MHxFlivb4oDT",
        "outputId": "c4eab4e0-a3cd-4f3f-9146-fbc2ae95118d",
        "trusted": true
      },
      "outputs": [
        {
          "data": {
            "image/png": "[encoded data removed]",
            "text/plain": [
              "<Figure size 1000x600 with 1 Axes>"
            ]
          },
          "metadata": {},
          "output_type": "display_data"
        }
      ],
      "source": [
        "label_plot(y_test)"
      ]
    },
    {
      "cell_type": "markdown",
      "metadata": {
        "id": "Wgjhd5bsVFsP"
      },
      "source": [
        "## Save processed data"
      ]
    },
    {
      "cell_type": "code",
      "execution_count": 23,
      "metadata": {},
      "outputs": [],
      "source": [
        "train = np.column_stack((y_train_full, X_train_full))\n",
        "test = np.column_stack((y_test, X_test))"
      ]
    },
    {
      "cell_type": "code",
      "execution_count": 26,
      "metadata": {
        "colab": {
          "base_uri": "https://localhost:8080/"
        },
        "id": "dytgSDVhSSZ2",
        "outputId": "a2aacfc2-4e72-4ea5-fd3e-d117edb77051"
      },
      "outputs": [
        {
          "name": "stdout",
          "output_type": "stream",
          "text": [
            "train_df saved to train.csv\n",
            "test_df saved to test.csv\n"
          ]
        }
      ],
      "source": [
        "# Convert the lists to pandas DataFrames\n",
        "train_df = pd.DataFrame(train)\n",
        "test_df = pd.DataFrame(test)\n",
        "\n",
        "# Save the Train DataFrames to CSV files\n",
        "train_df.to_csv('../DATA/asl/asl-landmark/train.csv', index=False, header=False)\n",
        "print(\"train_df saved to train.csv\")\n",
        "\n",
        "# Save the Test DataFrames to CSV files\n",
        "test_df.to_csv('../DATA/asl/asl-landmark/test.csv', index=False, header=False)\n",
        "print(\"test_df saved to test.csv\")"
      ]
    },
    {
      "cell_type": "code",
      "execution_count": 27,
      "metadata": {
        "colab": {
          "base_uri": "https://localhost:8080/"
        },
        "id": "zoJFHzxXS8Bw",
        "outputId": "f290080c-5ba5-48c9-835a-8eed059f667a"
      },
      "outputs": [
        {
          "name": "stdout",
          "output_type": "stream",
          "text": [
            "uniq_labels saved to asl_labels.csv\n"
          ]
        }
      ],
      "source": [
        "# Save uniq_labels to a CSV file\n",
        "with open('../model/asl_classifier/asl_labels.csv', 'w', newline='') as f:\n",
        "    writer = csv.writer(f)\n",
        "    for label in uniq_labels:\n",
        "        writer.writerow([label])\n",
        "\n",
        "print(\"uniq_labels saved to asl_labels.csv\")"
      ]
    }
  ],
  "metadata": {
    "colab": {
      "provenance": []
    },
    "kaggle": {
      "accelerator": "nvidiaTeslaT4",
      "dataSources": [
        {
          "datasetId": 23079,
          "sourceId": 29550,
          "sourceType": "datasetVersion"
        },
        {
          "datasetId": 39899,
          "sourceId": 61859,
          "sourceType": "datasetVersion"
        }
      ],
      "dockerImageVersionId": 31089,
      "isGpuEnabled": true,
      "isInternetEnabled": true,
      "language": "python",
      "sourceType": "notebook"
    },
    "kernelspec": {
      "display_name": "hand-gesture-recognition",
      "language": "python",
      "name": "python3"
    },
    "language_info": {
      "codemirror_mode": {
        "name": "ipython",
        "version": 3
      },
      "file_extension": ".py",
      "mimetype": "text/x-python",
      "name": "python",
      "nbconvert_exporter": "python",
      "pygments_lexer": "ipython3",
      "version": "3.10.18"
    },
    "widgets": {
      "application/vnd.jupyter.widget-state+json": {
        "051c4076131844cb862a775e21a6b1f6": {
          "model_module": "@jupyter-widgets/controls",
          "model_module_version": "1.5.0",
          "model_name": "DescriptionStyleModel",
          "state": {
            "_model_module": "@jupyter-widgets/controls",
            "_model_module_version": "1.5.0",
            "_model_name": "DescriptionStyleModel",
            "_view_count": null,
            "_view_module": "@jupyter-widgets/base",
            "_view_module_version": "1.2.0",
            "_view_name": "StyleView",
            "description_width": ""
          }
        },
        "0b642dde358b4f4a982da6930a514be7": {
          "model_module": "@jupyter-widgets/controls",
          "model_module_version": "1.5.0",
          "model_name": "HTMLModel",
          "state": {
            "_dom_classes": [],
            "_model_module": "@jupyter-widgets/controls",
            "_model_module_version": "1.5.0",
            "_model_name": "HTMLModel",
            "_view_count": null,
            "_view_module": "@jupyter-widgets/controls",
            "_view_module_version": "1.5.0",
            "_view_name": "HTMLView",
            "description": "",
            "description_tooltip": null,
            "layout": "IPY_MODEL_fc45b94840d84e2290675a8e162f5d6d",
            "placeholder": "​",
            "style": "IPY_MODEL_646f0cbc21b64c4fb6bee938ce51799d",
            "value": " 765/840 [00:38&lt;00:03, 20.62it/s]"
          }
        },
        "192208ab40784636bc2913675ec87c00": {
          "model_module": "@jupyter-widgets/base",
          "model_module_version": "1.2.0",
          "model_name": "LayoutModel",
          "state": {
            "_model_module": "@jupyter-widgets/base",
            "_model_module_version": "1.2.0",
            "_model_name": "LayoutModel",
            "_view_count": null,
            "_view_module": "@jupyter-widgets/base",
            "_view_module_version": "1.2.0",
            "_view_name": "LayoutView",
            "align_content": null,
            "align_items": null,
            "align_self": null,
            "border": null,
            "bottom": null,
            "display": null,
            "flex": null,
            "flex_flow": null,
            "grid_area": null,
            "grid_auto_columns": null,
            "grid_auto_flow": null,
            "grid_auto_rows": null,
            "grid_column": null,
            "grid_gap": null,
            "grid_row": null,
            "grid_template_areas": null,
            "grid_template_columns": null,
            "grid_template_rows": null,
            "height": null,
            "justify_content": null,
            "justify_items": null,
            "left": null,
            "margin": null,
            "max_height": null,
            "max_width": null,
            "min_height": null,
            "min_width": null,
            "object_fit": null,
            "object_position": null,
            "order": null,
            "overflow": null,
            "overflow_x": null,
            "overflow_y": null,
            "padding": null,
            "right": null,
            "top": null,
            "visibility": null,
            "width": null
          }
        },
        "1f3abbdcafdd478e925c58c4a180546d": {
          "model_module": "@jupyter-widgets/controls",
          "model_module_version": "1.5.0",
          "model_name": "HBoxModel",
          "state": {
            "_dom_classes": [],
            "_model_module": "@jupyter-widgets/controls",
            "_model_module_version": "1.5.0",
            "_model_name": "HBoxModel",
            "_view_count": null,
            "_view_module": "@jupyter-widgets/controls",
            "_view_module_version": "1.5.0",
            "_view_name": "HBoxView",
            "box_style": "",
            "children": [
              "IPY_MODEL_a4aaf0da05d045398eb214c641b4a28f",
              "IPY_MODEL_e2cfdc7735124dc2ba5cdde0149f14f4",
              "IPY_MODEL_53bd00c488e44dc29896b737cc5455a2"
            ],
            "layout": "IPY_MODEL_8ad52475057144678e7602541ca2124b"
          }
        },
        "3ff136c3a49945a7ad3b8412173cdf84": {
          "model_module": "@jupyter-widgets/base",
          "model_module_version": "1.2.0",
          "model_name": "LayoutModel",
          "state": {
            "_model_module": "@jupyter-widgets/base",
            "_model_module_version": "1.2.0",
            "_model_name": "LayoutModel",
            "_view_count": null,
            "_view_module": "@jupyter-widgets/base",
            "_view_module_version": "1.2.0",
            "_view_name": "LayoutView",
            "align_content": null,
            "align_items": null,
            "align_self": null,
            "border": null,
            "bottom": null,
            "display": null,
            "flex": "2",
            "flex_flow": null,
            "grid_area": null,
            "grid_auto_columns": null,
            "grid_auto_flow": null,
            "grid_auto_rows": null,
            "grid_column": null,
            "grid_gap": null,
            "grid_row": null,
            "grid_template_areas": null,
            "grid_template_columns": null,
            "grid_template_rows": null,
            "height": null,
            "justify_content": null,
            "justify_items": null,
            "left": null,
            "margin": null,
            "max_height": null,
            "max_width": null,
            "min_height": null,
            "min_width": null,
            "object_fit": null,
            "object_position": null,
            "order": null,
            "overflow": null,
            "overflow_x": null,
            "overflow_y": null,
            "padding": null,
            "right": null,
            "top": null,
            "visibility": null,
            "width": null
          }
        },
        "4a7cc53a9b4f4e00bb263a141f5d4220": {
          "model_module": "@jupyter-widgets/base",
          "model_module_version": "1.2.0",
          "model_name": "LayoutModel",
          "state": {
            "_model_module": "@jupyter-widgets/base",
            "_model_module_version": "1.2.0",
            "_model_name": "LayoutModel",
            "_view_count": null,
            "_view_module": "@jupyter-widgets/base",
            "_view_module_version": "1.2.0",
            "_view_name": "LayoutView",
            "align_content": null,
            "align_items": null,
            "align_self": null,
            "border": null,
            "bottom": null,
            "display": null,
            "flex": null,
            "flex_flow": null,
            "grid_area": null,
            "grid_auto_columns": null,
            "grid_auto_flow": null,
            "grid_auto_rows": null,
            "grid_column": null,
            "grid_gap": null,
            "grid_row": null,
            "grid_template_areas": null,
            "grid_template_columns": null,
            "grid_template_rows": null,
            "height": null,
            "justify_content": null,
            "justify_items": null,
            "left": null,
            "margin": null,
            "max_height": null,
            "max_width": null,
            "min_height": null,
            "min_width": null,
            "object_fit": null,
            "object_position": null,
            "order": null,
            "overflow": null,
            "overflow_x": null,
            "overflow_y": null,
            "padding": null,
            "right": null,
            "top": null,
            "visibility": null,
            "width": null
          }
        },
        "53bd00c488e44dc29896b737cc5455a2": {
          "model_module": "@jupyter-widgets/controls",
          "model_module_version": "1.5.0",
          "model_name": "HTMLModel",
          "state": {
            "_dom_classes": [],
            "_model_module": "@jupyter-widgets/controls",
            "_model_module_version": "1.5.0",
            "_model_name": "HTMLModel",
            "_view_count": null,
            "_view_module": "@jupyter-widgets/controls",
            "_view_module_version": "1.5.0",
            "_view_name": "HTMLView",
            "description": "",
            "description_tooltip": null,
            "layout": "IPY_MODEL_6bbf521c5cef4a3d8161840b21f97836",
            "placeholder": "​",
            "style": "IPY_MODEL_051c4076131844cb862a775e21a6b1f6",
            "value": " 19600/19600 [20:58&lt;00:00,  8.75it/s]"
          }
        },
        "646f0cbc21b64c4fb6bee938ce51799d": {
          "model_module": "@jupyter-widgets/controls",
          "model_module_version": "1.5.0",
          "model_name": "DescriptionStyleModel",
          "state": {
            "_model_module": "@jupyter-widgets/controls",
            "_model_module_version": "1.5.0",
            "_model_name": "DescriptionStyleModel",
            "_view_count": null,
            "_view_module": "@jupyter-widgets/base",
            "_view_module_version": "1.2.0",
            "_view_name": "StyleView",
            "description_width": ""
          }
        },
        "6bbf521c5cef4a3d8161840b21f97836": {
          "model_module": "@jupyter-widgets/base",
          "model_module_version": "1.2.0",
          "model_name": "LayoutModel",
          "state": {
            "_model_module": "@jupyter-widgets/base",
            "_model_module_version": "1.2.0",
            "_model_name": "LayoutModel",
            "_view_count": null,
            "_view_module": "@jupyter-widgets/base",
            "_view_module_version": "1.2.0",
            "_view_name": "LayoutView",
            "align_content": null,
            "align_items": null,
            "align_self": null,
            "border": null,
            "bottom": null,
            "display": null,
            "flex": null,
            "flex_flow": null,
            "grid_area": null,
            "grid_auto_columns": null,
            "grid_auto_flow": null,
            "grid_auto_rows": null,
            "grid_column": null,
            "grid_gap": null,
            "grid_row": null,
            "grid_template_areas": null,
            "grid_template_columns": null,
            "grid_template_rows": null,
            "height": null,
            "justify_content": null,
            "justify_items": null,
            "left": null,
            "margin": null,
            "max_height": null,
            "max_width": null,
            "min_height": null,
            "min_width": null,
            "object_fit": null,
            "object_position": null,
            "order": null,
            "overflow": null,
            "overflow_x": null,
            "overflow_y": null,
            "padding": null,
            "right": null,
            "top": null,
            "visibility": null,
            "width": null
          }
        },
        "6f02b59540f6437db4699782494cfaaa": {
          "model_module": "@jupyter-widgets/controls",
          "model_module_version": "1.5.0",
          "model_name": "DescriptionStyleModel",
          "state": {
            "_model_module": "@jupyter-widgets/controls",
            "_model_module_version": "1.5.0",
            "_model_name": "DescriptionStyleModel",
            "_view_count": null,
            "_view_module": "@jupyter-widgets/base",
            "_view_module_version": "1.2.0",
            "_view_name": "StyleView",
            "description_width": ""
          }
        },
        "803a38aa9f9f4d02a476ce3452c6de8a": {
          "model_module": "@jupyter-widgets/controls",
          "model_module_version": "1.5.0",
          "model_name": "HBoxModel",
          "state": {
            "_dom_classes": [],
            "_model_module": "@jupyter-widgets/controls",
            "_model_module_version": "1.5.0",
            "_model_name": "HBoxModel",
            "_view_count": null,
            "_view_module": "@jupyter-widgets/controls",
            "_view_module_version": "1.5.0",
            "_view_name": "HBoxView",
            "box_style": "",
            "children": [
              "IPY_MODEL_e16cae92c5154b0fafdeab23c59627a5",
              "IPY_MODEL_d1799f8f9f7c410dbc3303252e7499b3",
              "IPY_MODEL_0b642dde358b4f4a982da6930a514be7"
            ],
            "layout": "IPY_MODEL_81a7bf3fe9ee4c90a17a8cc4576ee726"
          }
        },
        "81a7bf3fe9ee4c90a17a8cc4576ee726": {
          "model_module": "@jupyter-widgets/base",
          "model_module_version": "1.2.0",
          "model_name": "LayoutModel",
          "state": {
            "_model_module": "@jupyter-widgets/base",
            "_model_module_version": "1.2.0",
            "_model_name": "LayoutModel",
            "_view_count": null,
            "_view_module": "@jupyter-widgets/base",
            "_view_module_version": "1.2.0",
            "_view_name": "LayoutView",
            "align_content": null,
            "align_items": null,
            "align_self": null,
            "border": null,
            "bottom": null,
            "display": "inline-flex",
            "flex": null,
            "flex_flow": "row wrap",
            "grid_area": null,
            "grid_auto_columns": null,
            "grid_auto_flow": null,
            "grid_auto_rows": null,
            "grid_column": null,
            "grid_gap": null,
            "grid_row": null,
            "grid_template_areas": null,
            "grid_template_columns": null,
            "grid_template_rows": null,
            "height": null,
            "justify_content": null,
            "justify_items": null,
            "left": null,
            "margin": null,
            "max_height": null,
            "max_width": null,
            "min_height": null,
            "min_width": null,
            "object_fit": null,
            "object_position": null,
            "order": null,
            "overflow": null,
            "overflow_x": null,
            "overflow_y": null,
            "padding": null,
            "right": null,
            "top": null,
            "visibility": null,
            "width": "100%"
          }
        },
        "8ad52475057144678e7602541ca2124b": {
          "model_module": "@jupyter-widgets/base",
          "model_module_version": "1.2.0",
          "model_name": "LayoutModel",
          "state": {
            "_model_module": "@jupyter-widgets/base",
            "_model_module_version": "1.2.0",
            "_model_name": "LayoutModel",
            "_view_count": null,
            "_view_module": "@jupyter-widgets/base",
            "_view_module_version": "1.2.0",
            "_view_name": "LayoutView",
            "align_content": null,
            "align_items": null,
            "align_self": null,
            "border": null,
            "bottom": null,
            "display": "inline-flex",
            "flex": null,
            "flex_flow": "row wrap",
            "grid_area": null,
            "grid_auto_columns": null,
            "grid_auto_flow": null,
            "grid_auto_rows": null,
            "grid_column": null,
            "grid_gap": null,
            "grid_row": null,
            "grid_template_areas": null,
            "grid_template_columns": null,
            "grid_template_rows": null,
            "height": null,
            "justify_content": null,
            "justify_items": null,
            "left": null,
            "margin": null,
            "max_height": null,
            "max_width": null,
            "min_height": null,
            "min_width": null,
            "object_fit": null,
            "object_position": null,
            "order": null,
            "overflow": null,
            "overflow_x": null,
            "overflow_y": null,
            "padding": null,
            "right": null,
            "top": null,
            "visibility": null,
            "width": "100%"
          }
        },
        "8e3102bce3454825840d4d0a49932b70": {
          "model_module": "@jupyter-widgets/controls",
          "model_module_version": "1.5.0",
          "model_name": "ProgressStyleModel",
          "state": {
            "_model_module": "@jupyter-widgets/controls",
            "_model_module_version": "1.5.0",
            "_model_name": "ProgressStyleModel",
            "_view_count": null,
            "_view_module": "@jupyter-widgets/base",
            "_view_module_version": "1.2.0",
            "_view_name": "StyleView",
            "bar_color": null,
            "description_width": ""
          }
        },
        "9c38cab37f3248d39e0d5165e22f176d": {
          "model_module": "@jupyter-widgets/controls",
          "model_module_version": "1.5.0",
          "model_name": "DescriptionStyleModel",
          "state": {
            "_model_module": "@jupyter-widgets/controls",
            "_model_module_version": "1.5.0",
            "_model_name": "DescriptionStyleModel",
            "_view_count": null,
            "_view_module": "@jupyter-widgets/base",
            "_view_module_version": "1.2.0",
            "_view_name": "StyleView",
            "description_width": ""
          }
        },
        "a4aaf0da05d045398eb214c641b4a28f": {
          "model_module": "@jupyter-widgets/controls",
          "model_module_version": "1.5.0",
          "model_name": "HTMLModel",
          "state": {
            "_dom_classes": [],
            "_model_module": "@jupyter-widgets/controls",
            "_model_module_version": "1.5.0",
            "_model_name": "HTMLModel",
            "_view_count": null,
            "_view_module": "@jupyter-widgets/controls",
            "_view_module_version": "1.5.0",
            "_view_name": "HTMLView",
            "description": "",
            "description_tooltip": null,
            "layout": "IPY_MODEL_192208ab40784636bc2913675ec87c00",
            "placeholder": "​",
            "style": "IPY_MODEL_6f02b59540f6437db4699782494cfaaa",
            "value": "Extracting landmarks: 100%"
          }
        },
        "d0c3da3b4633432e973309977e363c8e": {
          "model_module": "@jupyter-widgets/controls",
          "model_module_version": "1.5.0",
          "model_name": "ProgressStyleModel",
          "state": {
            "_model_module": "@jupyter-widgets/controls",
            "_model_module_version": "1.5.0",
            "_model_name": "ProgressStyleModel",
            "_view_count": null,
            "_view_module": "@jupyter-widgets/base",
            "_view_module_version": "1.2.0",
            "_view_name": "StyleView",
            "bar_color": null,
            "description_width": ""
          }
        },
        "d1799f8f9f7c410dbc3303252e7499b3": {
          "model_module": "@jupyter-widgets/controls",
          "model_module_version": "1.5.0",
          "model_name": "FloatProgressModel",
          "state": {
            "_dom_classes": [],
            "_model_module": "@jupyter-widgets/controls",
            "_model_module_version": "1.5.0",
            "_model_name": "FloatProgressModel",
            "_view_count": null,
            "_view_module": "@jupyter-widgets/controls",
            "_view_module_version": "1.5.0",
            "_view_name": "ProgressView",
            "bar_style": "danger",
            "description": "",
            "description_tooltip": null,
            "layout": "IPY_MODEL_faf43285952f40b582fb120fa47cbed8",
            "max": 840,
            "min": 0,
            "orientation": "horizontal",
            "style": "IPY_MODEL_8e3102bce3454825840d4d0a49932b70",
            "value": 765
          }
        },
        "e16cae92c5154b0fafdeab23c59627a5": {
          "model_module": "@jupyter-widgets/controls",
          "model_module_version": "1.5.0",
          "model_name": "HTMLModel",
          "state": {
            "_dom_classes": [],
            "_model_module": "@jupyter-widgets/controls",
            "_model_module_version": "1.5.0",
            "_model_name": "HTMLModel",
            "_view_count": null,
            "_view_module": "@jupyter-widgets/controls",
            "_view_module_version": "1.5.0",
            "_view_name": "HTMLView",
            "description": "",
            "description_tooltip": null,
            "layout": "IPY_MODEL_4a7cc53a9b4f4e00bb263a141f5d4220",
            "placeholder": "​",
            "style": "IPY_MODEL_9c38cab37f3248d39e0d5165e22f176d",
            "value": "Extracting landmarks:  91%"
          }
        },
        "e2cfdc7735124dc2ba5cdde0149f14f4": {
          "model_module": "@jupyter-widgets/controls",
          "model_module_version": "1.5.0",
          "model_name": "FloatProgressModel",
          "state": {
            "_dom_classes": [],
            "_model_module": "@jupyter-widgets/controls",
            "_model_module_version": "1.5.0",
            "_model_name": "FloatProgressModel",
            "_view_count": null,
            "_view_module": "@jupyter-widgets/controls",
            "_view_module_version": "1.5.0",
            "_view_name": "ProgressView",
            "bar_style": "success",
            "description": "",
            "description_tooltip": null,
            "layout": "IPY_MODEL_3ff136c3a49945a7ad3b8412173cdf84",
            "max": 19600,
            "min": 0,
            "orientation": "horizontal",
            "style": "IPY_MODEL_d0c3da3b4633432e973309977e363c8e",
            "value": 19600
          }
        },
        "faf43285952f40b582fb120fa47cbed8": {
          "model_module": "@jupyter-widgets/base",
          "model_module_version": "1.2.0",
          "model_name": "LayoutModel",
          "state": {
            "_model_module": "@jupyter-widgets/base",
            "_model_module_version": "1.2.0",
            "_model_name": "LayoutModel",
            "_view_count": null,
            "_view_module": "@jupyter-widgets/base",
            "_view_module_version": "1.2.0",
            "_view_name": "LayoutView",
            "align_content": null,
            "align_items": null,
            "align_self": null,
            "border": null,
            "bottom": null,
            "display": null,
            "flex": "2",
            "flex_flow": null,
            "grid_area": null,
            "grid_auto_columns": null,
            "grid_auto_flow": null,
            "grid_auto_rows": null,
            "grid_column": null,
            "grid_gap": null,
            "grid_row": null,
            "grid_template_areas": null,
            "grid_template_columns": null,
            "grid_template_rows": null,
            "height": null,
            "justify_content": null,
            "justify_items": null,
            "left": null,
            "margin": null,
            "max_height": null,
            "max_width": null,
            "min_height": null,
            "min_width": null,
            "object_fit": null,
            "object_position": null,
            "order": null,
            "overflow": null,
            "overflow_x": null,
            "overflow_y": null,
            "padding": null,
            "right": null,
            "top": null,
            "visibility": null,
            "width": null
          }
        },
        "fc45b94840d84e2290675a8e162f5d6d": {
          "model_module": "@jupyter-widgets/base",
          "model_module_version": "1.2.0",
          "model_name": "LayoutModel",
          "state": {
            "_model_module": "@jupyter-widgets/base",
            "_model_module_version": "1.2.0",
            "_model_name": "LayoutModel",
            "_view_count": null,
            "_view_module": "@jupyter-widgets/base",
            "_view_module_version": "1.2.0",
            "_view_name": "LayoutView",
            "align_content": null,
            "align_items": null,
            "align_self": null,
            "border": null,
            "bottom": null,
            "display": null,
            "flex": null,
            "flex_flow": null,
            "grid_area": null,
            "grid_auto_columns": null,
            "grid_auto_flow": null,
            "grid_auto_rows": null,
            "grid_column": null,
            "grid_gap": null,
            "grid_row": null,
            "grid_template_areas": null,
            "grid_template_columns": null,
            "grid_template_rows": null,
            "height": null,
            "justify_content": null,
            "justify_items": null,
            "left": null,
            "margin": null,
            "max_height": null,
            "max_width": null,
            "min_height": null,
            "min_width": null,
            "object_fit": null,
            "object_position": null,
            "order": null,
            "overflow": null,
            "overflow_x": null,
            "overflow_y": null,
            "padding": null,
            "right": null,
            "top": null,
            "visibility": null,
            "width": null
          }
        }
      }
    }
  },
  "nbformat": 4,
  "nbformat_minor": 0
}
